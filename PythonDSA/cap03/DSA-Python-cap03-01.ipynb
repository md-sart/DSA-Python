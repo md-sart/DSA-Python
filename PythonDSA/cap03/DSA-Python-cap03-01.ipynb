{
 "cells": [
  {
   "cell_type": "markdown",
   "id": "c7174496",
   "metadata": {},
   "source": [
    "DSA - Introdução a lógica de programação"
   ]
  },
  {
   "cell_type": "markdown",
   "id": "b75afebb",
   "metadata": {},
   "source": [
    "Pseudocodigo 1 - Calcular a área de um Paralelograma\n",
    "\n",
    "Inicie\n",
    "    Exiba \"bem vindo ao calculador de área de Paralelogramo\"\n",
    "    Peça para o usuário inserir o comprimento da base\n",
    "    Armazene o comprimento da base em uma variável\n",
    "    Peça para o usuário inserir a altura\n",
    "    Armazene a altura em uma variável\n",
    "    Calcule a área do paralelogramo: base * altura\n",
    "    Armazene o resultado em uma variável\n",
    "    Exiba o resultado\n",
    " Fim\n"
   ]
  },
  {
   "cell_type": "code",
   "execution_count": 3,
   "id": "d6e7ecc7",
   "metadata": {},
   "outputs": [
    {
     "name": "stdout",
     "output_type": "stream",
     "text": [
      "bem vindo ao calculador de área de Paralelogramo\n",
      "Digite o valor da base:10\n",
      "Digite o valor da altura:5\n",
      "A área do paralelogramo é 50.0\n"
     ]
    }
   ],
   "source": [
    "print(\"bem vindo ao calculador de área de Paralelogramo\")\n",
    "base = float(input(\"Digite o valor da base:\"))\n",
    "altura = float(input(\"Digite o valor da altura:\"))\n",
    "area = base * altura\n",
    "print (\"A área do paralelogramo é\", area)\n",
    "\n"
   ]
  },
  {
   "cell_type": "markdown",
   "id": "ea819201",
   "metadata": {},
   "source": [
    "Pseudocodigo 2 - Calculadora simples\n",
    "\n",
    "Inicio\n",
    "    Exiba \"bem vindo a calculadora simples\"\n",
    "    Peça ao usuário para digitar o primeiro valor\n",
    "    Armazene este valor em uma variável\n",
    "    Peça ao usuário para digitar o segundo valor\n",
    "    Armazene este valor em uma variável\n",
    "    Peça ao usuário para escolher a operação (+,-, *, /)\n",
    "    Armazene a operação em uma variável\n",
    "    Utilize a operação para e os valores para realizar o calculo\n",
    "    Exiba o resultado\n",
    " Fim"
   ]
  },
  {
   "cell_type": "code",
   "execution_count": 14,
   "id": "fb8ea5d4",
   "metadata": {},
   "outputs": [
    {
     "name": "stdout",
     "output_type": "stream",
     "text": [
      "Bem vindo a calculadora simples\n",
      "Digite o primeiro valor10\n",
      "Digite o segundo valor10\n",
      "Digite a operação: +, -, *, /k\n",
      "Operação inválida\n"
     ]
    }
   ],
   "source": [
    "print (\"Bem vindo a calculadora simples\")\n",
    "valor1 = float(input(\"Digite o primeiro valor\"))\n",
    "valor2 = float(input(\"Digite o segundo valor\"))\n",
    "operacao = input(\"Digite a operação: +, -, *, /\")\n",
    "\n",
    "if operacao == \"+\":\n",
    "    resultado = valor1 + valor2\n",
    "    print(\"O resultado é\", resultado)\n",
    "    \n",
    "elif operacao == \"-\":\n",
    "    resultado = valor1 - valor2\n",
    "    print(\"O resultado é\", resultado)\n",
    "    \n",
    "elif operacao == \"*\":\n",
    "    resultado = valor1 * valor2\n",
    "    print(\"O resultado é\", resultado)\n",
    "\n",
    "elif operacao == \"/\":\n",
    "    resultado = valor1 / valor2\n",
    "    print(\"O resultado é\", resultado)\n",
    "    \n",
    "else:\n",
    "    print(\"Operação inválida\")\n",
    "                "
   ]
  },
  {
   "cell_type": "markdown",
   "id": "ee52b7fa",
   "metadata": {},
   "source": [
    "Pseudocódigo 3 - ALgoritmo Bubble Sort\n",
    "Bubble sort é um algorítmo de ordenação simples que funciona comparando cada elemento com o próximo, e trocando-se de lugar se eles estiverem em ordem incorreta. O algoritmo repete este processo várias vezes até que todos os elementos estejam ordenados. A cada passagem, o maior elemento \"flutua\" para o final do array, como uma bolha, dando origem ao nome do algoritmo"
   ]
  },
  {
   "cell_type": "markdown",
   "id": "4835fd8d",
   "metadata": {},
   "source": [
    "Inicie\n",
    "    Para cada elemento i no array de tamanho n\n",
    "        Para cada elemento j no array de tamanho n - 1\n",
    "            se elemenro i for maior que elemento j\n",
    "                troque os elementos i e j\n",
    "     Exiba o array ordenado\n",
    "Fim"
   ]
  },
  {
   "cell_type": "code",
   "execution_count": 19,
   "id": "882f8f2b",
   "metadata": {},
   "outputs": [
    {
     "name": "stdout",
     "output_type": "stream",
     "text": [
      "[0, 1, 3, 4, 6, 7, 8, 10, 11, 12, 16, 17, 19, 21, 29, 30, 39, 43, 43, 56, 61, 67, 82]\n"
     ]
    }
   ],
   "source": [
    "lista = [6, 7, 8, 3, 10, 19, 4, 1, 0, 61, 30, 16, 17, 82, 29, 43, 43, 21, 11, 39, 56, 67, 12]\n",
    "\n",
    "def bubble_sort(array):\n",
    "    \n",
    "    n = len(array)\n",
    "    \n",
    "    #para cada elemento i do array\n",
    "    for i in range(n):\n",
    "        \n",
    "        #para cada elemento j do array\n",
    "        for j in range (0, n-i-1):\n",
    "            \n",
    "            #se o elemento i for maior que o elemento j\n",
    "            if array [j] > array[j+1]:\n",
    "                \n",
    "                #troque os elementos i e j\n",
    "                array[j], array[j+1] = array[j+1], array[j]\n",
    "            \n",
    "    return array\n",
    "print(bubble_sort(lista))\n",
    "    "
   ]
  },
  {
   "cell_type": "code",
   "execution_count": null,
   "id": "5f1d764c",
   "metadata": {},
   "outputs": [],
   "source": []
  }
 ],
 "metadata": {
  "kernelspec": {
   "display_name": "Python 3 (ipykernel)",
   "language": "python",
   "name": "python3"
  },
  "language_info": {
   "codemirror_mode": {
    "name": "ipython",
    "version": 3
   },
   "file_extension": ".py",
   "mimetype": "text/x-python",
   "name": "python",
   "nbconvert_exporter": "python",
   "pygments_lexer": "ipython3",
   "version": "3.9.13"
  }
 },
 "nbformat": 4,
 "nbformat_minor": 5
}
